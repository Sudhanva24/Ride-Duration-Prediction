{
  "nbformat": 4,
  "nbformat_minor": 0,
  "metadata": {
    "colab": {
      "provenance": [],
      "gpuType": "T4"
    },
    "kernelspec": {
      "name": "python3",
      "display_name": "Python 3"
    },
    "language_info": {
      "name": "python"
    },
    "accelerator": "GPU"
  },
  "cells": [
    {
      "cell_type": "code",
      "execution_count": 4,
      "metadata": {
        "id": "xIUHmUaYCCmP"
      },
      "outputs": [],
      "source": [
        "import pandas as pd\n",
        "import numpy as np\n",
        "import torch\n",
        "from torch.utils.data import Dataset, DataLoader\n",
        "from sklearn.metrics import r2_score, mean_squared_error\n",
        "import numpy as np\n",
        "\n",
        "import torch.nn as nn\n"
      ]
    },
    {
      "cell_type": "code",
      "source": [
        "train=pd.read_csv(\"/content/final_train.csv\")\n",
        "val=pd.read_csv(\"/content/final_val.csv\")"
      ],
      "metadata": {
        "id": "Igm-HL5FCKJp"
      },
      "execution_count": 3,
      "outputs": []
    },
    {
      "cell_type": "code",
      "source": [
        "train.dropna(inplace=True)\n"
      ],
      "metadata": {
        "id": "Rzg5sY_-Fm-8"
      },
      "execution_count": 18,
      "outputs": []
    },
    {
      "cell_type": "code",
      "source": [
        "X_train = train.drop('duration',axis=1)\n",
        "y_train = train['duration']\n",
        "\n",
        "X_val = val.drop('duration',axis=1)\n",
        "y_val = val['duration']"
      ],
      "metadata": {
        "id": "XIK6laOUEfEj"
      },
      "execution_count": 7,
      "outputs": []
    },
    {
      "cell_type": "code",
      "source": [
        "# Custom dataset class\n",
        "class TaxiDataset(Dataset):\n",
        "    def __init__(self, X, y):\n",
        "        self.X = torch.FloatTensor(X.values)\n",
        "        self.y = torch.FloatTensor(y.values)\n",
        "\n",
        "    def __len__(self):\n",
        "        return len(self.X)\n",
        "\n",
        "    def __getitem__(self, idx):\n",
        "        return self.X[idx], self.y[idx]"
      ],
      "metadata": {
        "id": "wn3k4GI3EQMt"
      },
      "execution_count": 5,
      "outputs": []
    },
    {
      "cell_type": "code",
      "source": [
        "# Neural Network class\n",
        "class TaxiNN(nn.Module):\n",
        "    def __init__(self, input_dim):\n",
        "        super(TaxiNN, self).__init__()\n",
        "        self.fc1 = nn.Linear(input_dim, 256)\n",
        "\n",
        "        self.fc2 = nn.Linear(256, 128)\n",
        "        self.bn1 = nn.BatchNorm1d(128)\n",
        "        self.dropout1 = nn.Dropout(0.3)\n",
        "\n",
        "        self.fc3 = nn.Linear(128, 64)\n",
        "        self.bn2 = nn.BatchNorm1d(64)  # Changed to match fc3 output size\n",
        "\n",
        "        self.fc4 = nn.Linear(64, 32)\n",
        "        self.bn3 = nn.BatchNorm1d(32)  # New batch norm layer for fc4\n",
        "        self.dropout2 = nn.Dropout(0.3)\n",
        "\n",
        "        self.fc5 = nn.Linear(32, 1)\n",
        "\n",
        "    def forward(self, x):\n",
        "        x = torch.relu(self.fc1(x))\n",
        "        x = self.dropout1(torch.relu(self.bn1(self.fc2(x))))\n",
        "        x = torch.relu(self.bn2(self.fc3(x)))  # Using bn2 for fc3's output\n",
        "        x = self.dropout2(torch.relu(self.bn3(self.fc4(x))))  # Using bn3 for fc4's output\n",
        "        x = self.fc5(x)\n",
        "        return x"
      ],
      "metadata": {
        "id": "zmaW1ZAjESXQ"
      },
      "execution_count": 31,
      "outputs": []
    },
    {
      "cell_type": "code",
      "source": [
        "# Create data loaders\n",
        "train_dataset = TaxiDataset(X_train, y_train)\n",
        "val_dataset = TaxiDataset(X_val, y_val)"
      ],
      "metadata": {
        "id": "wBC4xJqeEh2q"
      },
      "execution_count": 32,
      "outputs": []
    },
    {
      "cell_type": "code",
      "source": [
        "train_loader = DataLoader(train_dataset, batch_size=32, shuffle=True)\n",
        "val_loader = DataLoader(val_dataset, batch_size=32)"
      ],
      "metadata": {
        "id": "pnHrUpL_EkGd"
      },
      "execution_count": 33,
      "outputs": []
    },
    {
      "cell_type": "code",
      "source": [
        "# Initialize model, loss and optimizer\n",
        "model = TaxiNN(X_train.shape[1])\n",
        "criterion = nn.MSELoss()\n",
        "optimizer = torch.optim.Adam(model.parameters(),lr=0.01)"
      ],
      "metadata": {
        "id": "idy7Y7VSEnwA"
      },
      "execution_count": 34,
      "outputs": []
    },
    {
      "cell_type": "code",
      "source": [
        "# Training loop\n",
        "best_val_loss = float('inf')\n",
        "patience = 5\n",
        "counter = 0\n",
        "epochs=30"
      ],
      "metadata": {
        "id": "d2Eg-zAlEwG8"
      },
      "execution_count": 35,
      "outputs": []
    },
    {
      "cell_type": "code",
      "source": [
        "for epoch in range(epochs):\n",
        "    model.train()\n",
        "    for X_batch, y_batch in train_loader:\n",
        "        # Check for and handle NaNs in batches\n",
        "        if torch.isnan(X_batch).any():\n",
        "            # Replace NaNs with zeros or means\n",
        "            X_batch = torch.nan_to_num(X_batch, nan=0.0)\n",
        "\n",
        "        optimizer.zero_grad()\n",
        "        y_pred = model(X_batch)\n",
        "        loss = criterion(y_pred, y_batch.unsqueeze(1))\n",
        "        loss.backward()\n",
        "        optimizer.step()\n",
        "\n",
        "    # Validation\n",
        "    model.eval()\n",
        "    val_predictions = []\n",
        "    val_targets = []\n",
        "\n",
        "    with torch.no_grad():\n",
        "        for X_batch, y_batch in val_loader:\n",
        "            # Handle potential NaNs in validation data too\n",
        "            if torch.isnan(X_batch).any():\n",
        "                X_batch = torch.nan_to_num(X_batch, nan=0.0)\n",
        "\n",
        "            y_pred = model(X_batch)\n",
        "            val_predictions.extend(y_pred.squeeze().tolist())\n",
        "            val_targets.extend(y_batch.tolist())\n",
        "\n",
        "    val_predictions = np.array(val_predictions)\n",
        "    val_targets = np.array(val_targets)\n",
        "\n",
        "    # Check for NaNs before computing metrics\n",
        "    if np.isnan(val_predictions).any() or np.isnan(val_targets).any():\n",
        "        print(\"Warning: NaN values found in predictions or targets!\")\n",
        "        # Handle or skip this evaluation\n",
        "    else:\n",
        "        val_r2 = r2_score(val_targets, val_predictions)\n",
        "        val_rmse = np.sqrt(mean_squared_error(val_targets, val_predictions))\n",
        "        print(f'Epoch {epoch+1}: Val R2: {val_r2:.4f}, Val RMSE: {val_rmse:.4f}')\n",
        "     # Early stopping\n",
        "    val_loss = val_rmse\n",
        "    if val_loss < best_val_loss:\n",
        "        best_val_loss = val_loss\n",
        "        counter = 0\n",
        "    else:\n",
        "        counter += 1\n",
        "        if counter >= patience:\n",
        "            print(f'Early stopping at epoch {epoch+1}')\n",
        "            break"
      ],
      "metadata": {
        "colab": {
          "base_uri": "https://localhost:8080/"
        },
        "id": "qodk50WYG23s",
        "outputId": "c27fe7d7-b001-4aba-d08d-693d241fc4f1"
      },
      "execution_count": 36,
      "outputs": [
        {
          "output_type": "stream",
          "name": "stdout",
          "text": [
            "Epoch 1: Val R2: 0.7635, Val RMSE: 4.6257\n",
            "Epoch 2: Val R2: 0.7409, Val RMSE: 4.8416\n",
            "Epoch 3: Val R2: 0.7472, Val RMSE: 4.7824\n",
            "Epoch 4: Val R2: 0.7761, Val RMSE: 4.5010\n",
            "Epoch 5: Val R2: 0.7672, Val RMSE: 4.5893\n",
            "Epoch 6: Val R2: 0.7716, Val RMSE: 4.5456\n",
            "Epoch 7: Val R2: 0.7524, Val RMSE: 4.7328\n",
            "Epoch 8: Val R2: 0.7812, Val RMSE: 4.4489\n",
            "Epoch 9: Val R2: 0.7658, Val RMSE: 4.6029\n",
            "Epoch 10: Val R2: 0.7763, Val RMSE: 4.4982\n",
            "Epoch 11: Val R2: 0.7606, Val RMSE: 4.6533\n",
            "Epoch 12: Val R2: 0.7823, Val RMSE: 4.4377\n",
            "Epoch 13: Val R2: 0.7774, Val RMSE: 4.4879\n",
            "Epoch 14: Val R2: 0.7675, Val RMSE: 4.5866\n",
            "Epoch 15: Val R2: 0.7489, Val RMSE: 4.7663\n",
            "Epoch 16: Val R2: 0.7841, Val RMSE: 4.4196\n",
            "Epoch 17: Val R2: 0.7791, Val RMSE: 4.4706\n",
            "Epoch 18: Val R2: 0.7797, Val RMSE: 4.4643\n",
            "Epoch 19: Val R2: 0.7436, Val RMSE: 4.8164\n",
            "Epoch 20: Val R2: 0.7683, Val RMSE: 4.5783\n",
            "Epoch 21: Val R2: 0.7681, Val RMSE: 4.5799\n",
            "Early stopping at epoch 21\n"
          ]
        }
      ]
    },
    {
      "cell_type": "code",
      "source": [
        "torch.save(model.state_dict(), 'neural_network_model.pth')"
      ],
      "metadata": {
        "id": "fQpjaelGS3L3"
      },
      "execution_count": 39,
      "outputs": []
    },
    {
      "cell_type": "code",
      "source": [],
      "metadata": {
        "id": "c6Z1F6J5TPPr"
      },
      "execution_count": null,
      "outputs": []
    }
  ]
}